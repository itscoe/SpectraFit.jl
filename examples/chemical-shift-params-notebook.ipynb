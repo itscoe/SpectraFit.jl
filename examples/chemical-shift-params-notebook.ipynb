{
 "cells": [
  {
   "cell_type": "code",
   "execution_count": 1,
   "metadata": {},
   "outputs": [],
   "source": [
    "#using Pkg; Pkg.add(PackageSpec(url=\"https://github.com/itscoe/SpectraFit.jl\", rev=\"master\"))"
   ]
  },
  {
   "cell_type": "code",
   "execution_count": 2,
   "metadata": {},
   "outputs": [
    {
     "name": "stderr",
     "output_type": "stream",
     "text": [
      "┌ Info: Precompiling SpectraFit [1789dd9f-0c89-4092-96fe-8660666f4b70]\n",
      "└ @ Base loading.jl:1260\n"
     ]
    }
   ],
   "source": [
    "using SpectraFit, Plots, DataFrames"
   ]
  },
  {
   "cell_type": "code",
   "execution_count": 3,
   "metadata": {},
   "outputs": [
    {
     "data": {
      "text/plain": [
       "187×2 Array{Float64,2}:\n",
       " -3816.18         2.82427e6\n",
       " -3725.23         2.97794e6\n",
       " -3653.96         2.59856e6\n",
       " -3554.63         2.75628e6\n",
       " -3437.43         3.10908e6\n",
       " -3418.11         4.70798e6\n",
       " -3398.79         4.75379e6\n",
       " -3379.65         4.82229e6\n",
       " -3360.15         5.95238e6\n",
       " -3341.19         7.71148e6\n",
       " -3322.05         7.47253e6\n",
       " -3302.55         9.12197e6\n",
       " -3283.41         1.09083e7\n",
       "     ⋮       \n",
       "  -172.266        5.07071e6\n",
       "  -153.128        5.06373e6\n",
       "  -133.99         4.94116e6\n",
       "  -114.852        5.26028e6\n",
       "   -95.5313       4.59471e6\n",
       "   -76.2108       4.51288e6\n",
       "   -56.8903       4.20556e6\n",
       "   -37.7521       4.67123e6\n",
       "   -18.4316       4.40853e6\n",
       "     0.8889       1.2385e6\n",
       "    95.4864  628655.0\n",
       "   345.924        1.60631e6"
      ]
     },
     "execution_count": 3,
     "metadata": {},
     "output_type": "execute_result"
    }
   ],
   "source": [
    "experimental = get_experimental(get_data(\"30 envelope.csv\"))"
   ]
  },
  {
   "cell_type": "code",
   "execution_count": 4,
   "metadata": {},
   "outputs": [
    {
     "data": {
      "image/svg+xml": [
       "<?xml version=\"1.0\" encoding=\"utf-8\"?>\n",
       "<svg xmlns=\"http://www.w3.org/2000/svg\" xmlns:xlink=\"http://www.w3.org/1999/xlink\" width=\"600\" height=\"400\" viewBox=\"0 0 2400 1600\">\n",
       "<defs>\n",
       "  <clipPath id=\"clip3300\">\n",
       "    <rect x=\"0\" y=\"0\" width=\"2400\" height=\"1600\"/>\n",
       "  </clipPath>\n",
       "</defs>\n",
       "<path clip-path=\"url(#clip3300)\" d=\"\n",
       "M0 1600 L2400 1600 L2400 0 L0 0  Z\n",
       "  \" fill=\"#ffffff\" fill-rule=\"evenodd\" fill-opacity=\"1\"/>\n",
       "<defs>\n",
       "  <clipPath id=\"clip3301\">\n",
       "    <rect x=\"480\" y=\"0\" width=\"1681\" height=\"1600\"/>\n",
       "  </clipPath>\n",
       "</defs>\n",
       "<path clip-path=\"url(#clip3300)\" d=\"\n",
       "M251.272 1487.47 L2352.76 1487.47 L2352.76 47.2441 L251.272 47.2441  Z\n",
       "  \" fill=\"#ffffff\" fill-rule=\"evenodd\" fill-opacity=\"1\"/>\n",
       "<defs>\n",
       "  <clipPath id=\"clip3302\">\n",
       "    <rect x=\"251\" y=\"47\" width=\"2102\" height=\"1441\"/>\n",
       "  </clipPath>\n",
       "</defs>\n",
       "<polyline clip-path=\"url(#clip3302)\" style=\"stroke:#000000; stroke-width:2; stroke-opacity:0.1; fill:none\" points=\"\n",
       "  699.52,1487.47 699.52,47.2441 \n",
       "  \"/>\n",
       "<polyline clip-path=\"url(#clip3302)\" style=\"stroke:#000000; stroke-width:2; stroke-opacity:0.1; fill:none\" points=\"\n",
       "  1175.85,1487.47 1175.85,47.2441 \n",
       "  \"/>\n",
       "<polyline clip-path=\"url(#clip3302)\" style=\"stroke:#000000; stroke-width:2; stroke-opacity:0.1; fill:none\" points=\"\n",
       "  1652.18,1487.47 1652.18,47.2441 \n",
       "  \"/>\n",
       "<polyline clip-path=\"url(#clip3302)\" style=\"stroke:#000000; stroke-width:2; stroke-opacity:0.1; fill:none\" points=\"\n",
       "  2128.51,1487.47 2128.51,47.2441 \n",
       "  \"/>\n",
       "<polyline clip-path=\"url(#clip3302)\" style=\"stroke:#000000; stroke-width:2; stroke-opacity:0.1; fill:none\" points=\"\n",
       "  251.272,1467.37 2352.76,1467.37 \n",
       "  \"/>\n",
       "<polyline clip-path=\"url(#clip3302)\" style=\"stroke:#000000; stroke-width:2; stroke-opacity:0.1; fill:none\" points=\"\n",
       "  251.272,1138.8 2352.76,1138.8 \n",
       "  \"/>\n",
       "<polyline clip-path=\"url(#clip3302)\" style=\"stroke:#000000; stroke-width:2; stroke-opacity:0.1; fill:none\" points=\"\n",
       "  251.272,810.233 2352.76,810.233 \n",
       "  \"/>\n",
       "<polyline clip-path=\"url(#clip3302)\" style=\"stroke:#000000; stroke-width:2; stroke-opacity:0.1; fill:none\" points=\"\n",
       "  251.272,481.665 2352.76,481.665 \n",
       "  \"/>\n",
       "<polyline clip-path=\"url(#clip3302)\" style=\"stroke:#000000; stroke-width:2; stroke-opacity:0.1; fill:none\" points=\"\n",
       "  251.272,153.097 2352.76,153.097 \n",
       "  \"/>\n",
       "<polyline clip-path=\"url(#clip3300)\" style=\"stroke:#000000; stroke-width:4; stroke-opacity:1; fill:none\" points=\"\n",
       "  251.272,1487.47 2352.76,1487.47 \n",
       "  \"/>\n",
       "<polyline clip-path=\"url(#clip3300)\" style=\"stroke:#000000; stroke-width:4; stroke-opacity:1; fill:none\" points=\"\n",
       "  251.272,1487.47 251.272,47.2441 \n",
       "  \"/>\n",
       "<polyline clip-path=\"url(#clip3300)\" style=\"stroke:#000000; stroke-width:4; stroke-opacity:1; fill:none\" points=\"\n",
       "  699.52,1487.47 699.52,1470.19 \n",
       "  \"/>\n",
       "<polyline clip-path=\"url(#clip3300)\" style=\"stroke:#000000; stroke-width:4; stroke-opacity:1; fill:none\" points=\"\n",
       "  1175.85,1487.47 1175.85,1470.19 \n",
       "  \"/>\n",
       "<polyline clip-path=\"url(#clip3300)\" style=\"stroke:#000000; stroke-width:4; stroke-opacity:1; fill:none\" points=\"\n",
       "  1652.18,1487.47 1652.18,1470.19 \n",
       "  \"/>\n",
       "<polyline clip-path=\"url(#clip3300)\" style=\"stroke:#000000; stroke-width:4; stroke-opacity:1; fill:none\" points=\"\n",
       "  2128.51,1487.47 2128.51,1470.19 \n",
       "  \"/>\n",
       "<polyline clip-path=\"url(#clip3300)\" style=\"stroke:#000000; stroke-width:4; stroke-opacity:1; fill:none\" points=\"\n",
       "  251.272,1467.37 276.49,1467.37 \n",
       "  \"/>\n",
       "<polyline clip-path=\"url(#clip3300)\" style=\"stroke:#000000; stroke-width:4; stroke-opacity:1; fill:none\" points=\"\n",
       "  251.272,1138.8 276.49,1138.8 \n",
       "  \"/>\n",
       "<polyline clip-path=\"url(#clip3300)\" style=\"stroke:#000000; stroke-width:4; stroke-opacity:1; fill:none\" points=\"\n",
       "  251.272,810.233 276.49,810.233 \n",
       "  \"/>\n",
       "<polyline clip-path=\"url(#clip3300)\" style=\"stroke:#000000; stroke-width:4; stroke-opacity:1; fill:none\" points=\"\n",
       "  251.272,481.665 276.49,481.665 \n",
       "  \"/>\n",
       "<polyline clip-path=\"url(#clip3300)\" style=\"stroke:#000000; stroke-width:4; stroke-opacity:1; fill:none\" points=\"\n",
       "  251.272,153.097 276.49,153.097 \n",
       "  \"/>\n",
       "<g clip-path=\"url(#clip3300)\">\n",
       "<text style=\"fill:#000000; fill-opacity:1; font-family:Arial,Helvetica Neue,Helvetica,sans-serif; font-size:48px; text-anchor:middle;\" transform=\"rotate(0, 699.52, 1541.47)\" x=\"699.52\" y=\"1541.47\">-3000</text>\n",
       "</g>\n",
       "<g clip-path=\"url(#clip3300)\">\n",
       "<text style=\"fill:#000000; fill-opacity:1; font-family:Arial,Helvetica Neue,Helvetica,sans-serif; font-size:48px; text-anchor:middle;\" transform=\"rotate(0, 1175.85, 1541.47)\" x=\"1175.85\" y=\"1541.47\">-2000</text>\n",
       "</g>\n",
       "<g clip-path=\"url(#clip3300)\">\n",
       "<text style=\"fill:#000000; fill-opacity:1; font-family:Arial,Helvetica Neue,Helvetica,sans-serif; font-size:48px; text-anchor:middle;\" transform=\"rotate(0, 1652.18, 1541.47)\" x=\"1652.18\" y=\"1541.47\">-1000</text>\n",
       "</g>\n",
       "<g clip-path=\"url(#clip3300)\">\n",
       "<text style=\"fill:#000000; fill-opacity:1; font-family:Arial,Helvetica Neue,Helvetica,sans-serif; font-size:48px; text-anchor:middle;\" transform=\"rotate(0, 2128.51, 1541.47)\" x=\"2128.51\" y=\"1541.47\">0</text>\n",
       "</g>\n",
       "<g clip-path=\"url(#clip3300)\">\n",
       "<text style=\"fill:#000000; fill-opacity:1; font-family:Arial,Helvetica Neue,Helvetica,sans-serif; font-size:48px; text-anchor:end;\" transform=\"rotate(0, 227.272, 1484.87)\" x=\"227.272\" y=\"1484.87\">0</text>\n",
       "</g>\n",
       "<g clip-path=\"url(#clip3300)\">\n",
       "<text style=\"fill:#000000; fill-opacity:1; font-family:Arial,Helvetica Neue,Helvetica,sans-serif; font-size:48px; text-anchor:start;\" transform=\"rotate(0, 97.131, 1162.53)\" x=\"97.131\" y=\"1162.53\">1×10</text>\n",
       "</g>\n",
       "<g clip-path=\"url(#clip3300)\">\n",
       "<text style=\"fill:#000000; fill-opacity:1; font-family:Arial,Helvetica Neue,Helvetica,sans-serif; font-size:38px; text-anchor:start;\" transform=\"rotate(0, 205.528, 1135.12)\" x=\"205.528\" y=\"1135.12\">7</text>\n",
       "</g>\n",
       "<g clip-path=\"url(#clip3300)\">\n",
       "<text style=\"fill:#000000; fill-opacity:1; font-family:Arial,Helvetica Neue,Helvetica,sans-serif; font-size:48px; text-anchor:start;\" transform=\"rotate(0, 97.131, 833.961)\" x=\"97.131\" y=\"833.961\">2×10</text>\n",
       "</g>\n",
       "<g clip-path=\"url(#clip3300)\">\n",
       "<text style=\"fill:#000000; fill-opacity:1; font-family:Arial,Helvetica Neue,Helvetica,sans-serif; font-size:38px; text-anchor:start;\" transform=\"rotate(0, 205.528, 806.55)\" x=\"205.528\" y=\"806.55\">7</text>\n",
       "</g>\n",
       "<g clip-path=\"url(#clip3300)\">\n",
       "<text style=\"fill:#000000; fill-opacity:1; font-family:Arial,Helvetica Neue,Helvetica,sans-serif; font-size:48px; text-anchor:start;\" transform=\"rotate(0, 97.131, 505.393)\" x=\"97.131\" y=\"505.393\">3×10</text>\n",
       "</g>\n",
       "<g clip-path=\"url(#clip3300)\">\n",
       "<text style=\"fill:#000000; fill-opacity:1; font-family:Arial,Helvetica Neue,Helvetica,sans-serif; font-size:38px; text-anchor:start;\" transform=\"rotate(0, 205.528, 477.982)\" x=\"205.528\" y=\"477.982\">7</text>\n",
       "</g>\n",
       "<g clip-path=\"url(#clip3300)\">\n",
       "<text style=\"fill:#000000; fill-opacity:1; font-family:Arial,Helvetica Neue,Helvetica,sans-serif; font-size:48px; text-anchor:start;\" transform=\"rotate(0, 97.131, 176.825)\" x=\"97.131\" y=\"176.825\">4×10</text>\n",
       "</g>\n",
       "<g clip-path=\"url(#clip3300)\">\n",
       "<text style=\"fill:#000000; fill-opacity:1; font-family:Arial,Helvetica Neue,Helvetica,sans-serif; font-size:38px; text-anchor:start;\" transform=\"rotate(0, 205.528, 149.414)\" x=\"205.528\" y=\"149.414\">7</text>\n",
       "</g>\n",
       "<polyline clip-path=\"url(#clip3302)\" style=\"stroke:#009af9; stroke-width:4; stroke-opacity:1; fill:none\" points=\"\n",
       "  310.748,1374.57 354.072,1369.52 388.018,1381.99 435.335,1376.81 491.16,1365.21 500.363,1312.68 509.566,1311.17 518.682,1308.92 527.972,1271.79 537.001,1213.99 \n",
       "  546.117,1221.85 555.407,1167.65 564.523,1108.96 573.639,1078.1 582.842,1063.32 591.958,1038.2 601.074,1014.81 610.277,914.509 619.393,891.246 628.509,891.536 \n",
       "  637.712,827.169 646.828,782.038 655.944,705.925 665.147,663.18 674.263,699.966 683.466,696.791 692.582,598.876 701.698,615.028 710.901,645.895 720.017,572.27 \n",
       "  729.22,477.069 738.423,486.446 747.452,483.49 756.568,350.659 765.771,346.711 774.887,413.248 784.09,389.254 793.206,352.196 802.322,199.671 811.525,214.223 \n",
       "  820.728,270.237 829.758,210.179 838.96,256.66 848.163,196.326 857.279,201.303 866.395,230.997 872.212,1321.3 875.598,191.344 884.628,219.682 893.831,185.052 \n",
       "  903.034,186.762 912.15,149.975 921.266,197.67 930.469,97.4025 939.585,144.053 948.701,218.922 957.817,226.736 966.933,131.769 976.136,88.0053 985.339,158.602 \n",
       "  994.455,204.718 1003.57,248.692 1012.77,213.515 1021.89,232.517 1031.01,238.721 1040.21,201.325 1049.32,300.142 1058.53,291.983 1067.64,367.758 1076.85,342.496 \n",
       "  1085.96,326.255 1095.08,271.353 1104.2,296.448 1113.4,303.91 1122.51,300.389 1131.72,327.03 1140.92,354.307 1149.95,374.948 1159.07,374.652 1168.27,280.633 \n",
       "  1177.38,333.543 1186.59,350.337 1195.79,438.076 1204.82,377.759 1214.02,365.922 1223.14,390.407 1232.25,472.769 1241.46,480.721 1250.66,441.779 1259.78,449.354 \n",
       "  1268.89,451.219 1278.01,490.597 1287.21,489.909 1296.33,551.442 1305.53,560.983 1314.56,574.159 1323.76,528.294 1332.97,461.246 1342.08,462.457 1351.2,465.835 \n",
       "  1360.31,475.469 1369.43,537.327 1378.63,687.831 1387.84,739.727 1397.04,730.088 1406.15,596.809 1415.27,527.414 1424.39,607.621 1433.59,695.982 1442.71,654.036 \n",
       "  1451.91,609.276 1461.02,621.585 1470.14,676.974 1479.34,756.061 1488.46,729.45 1497.58,673.888 1506.78,759.037 1515.98,760.296 1525.01,782.153 1534.21,817.839 \n",
       "  1543.42,784.035 1552.45,801.444 1561.65,848.47 1570.77,918.203 1579.88,890.632 1589.08,875.342 1598.2,868.432 1607.32,917.211 1616.52,907.128 1625.64,916.643 \n",
       "  1634.75,981.192 1643.87,960.255 1652.98,1062.46 1662.19,1046.4 1671.39,1039.18 1680.51,1086.06 1689.62,1032.91 1698.74,1038 1707.94,1092.05 1717.14,1110.67 \n",
       "  1726.26,1087.6 1735.38,1075.77 1744.49,1147.3 1753.69,1167.26 1762.72,1121.18 1771.93,1154.48 1781.13,1151.91 1790.25,1109.81 1799.45,1058.52 1808.56,1097.79 \n",
       "  1817.68,1138.99 1826.97,1160.52 1836,1176.44 1845.12,1187.98 1854.23,1210.33 1863.52,1169.59 1872.64,1189.04 1881.84,1200.23 1891.04,1220.87 1900.07,1210.78 \n",
       "  1909.02,1213.9 1918.3,1221.31 1927.51,1190.77 1936.71,1220.84 1945.74,1292.01 1954.94,1261.72 1964.15,1206.06 1973.26,1196.72 1982.38,1275.51 1991.58,1314.09 \n",
       "  2000.7,1289.26 2009.81,1311.6 2018.93,1291.51 2028.13,1264.73 2037.25,1277.17 2046.45,1300.76 2055.57,1300.99 2064.68,1305.02 2073.8,1294.53 2083,1316.4 \n",
       "  2092.21,1319.09 2101.41,1329.19 2110.52,1313.89 2119.73,1322.52 2128.93,1426.68 2173.99,1446.71 2293.28,1414.59 \n",
       "  \"/>\n",
       "<path clip-path=\"url(#clip3300)\" d=\"\n",
       "M1989.93 251.724 L2280.76 251.724 L2280.76 130.764 L1989.93 130.764  Z\n",
       "  \" fill=\"#ffffff\" fill-rule=\"evenodd\" fill-opacity=\"1\"/>\n",
       "<polyline clip-path=\"url(#clip3300)\" style=\"stroke:#000000; stroke-width:4; stroke-opacity:1; fill:none\" points=\"\n",
       "  1989.93,251.724 2280.76,251.724 2280.76,130.764 1989.93,130.764 1989.93,251.724 \n",
       "  \"/>\n",
       "<polyline clip-path=\"url(#clip3300)\" style=\"stroke:#009af9; stroke-width:4; stroke-opacity:1; fill:none\" points=\"\n",
       "  2013.93,191.244 2157.93,191.244 \n",
       "  \"/>\n",
       "<g clip-path=\"url(#clip3300)\">\n",
       "<text style=\"fill:#000000; fill-opacity:1; font-family:Arial,Helvetica Neue,Helvetica,sans-serif; font-size:48px; text-anchor:start;\" transform=\"rotate(0, 2181.93, 208.744)\" x=\"2181.93\" y=\"208.744\">y1</text>\n",
       "</g>\n",
       "</svg>\n"
      ]
     },
     "execution_count": 4,
     "metadata": {},
     "output_type": "execute_result"
    }
   ],
   "source": [
    "plot(experimental[:, 1], experimental[:, 2])"
   ]
  },
  {
   "cell_type": "code",
   "execution_count": null,
   "metadata": {},
   "outputs": [],
   "source": [
    "result = SpectraFit.fit_chemical_shift(experimental)"
   ]
  },
  {
   "cell_type": "code",
   "execution_count": 6,
   "metadata": {},
   "outputs": [
    {
     "data": {
      "text/plain": [
       "6-element Array{Float64,1}:\n",
       "  727.8317089805207\n",
       "  -44.585946386546425\n",
       " -254.86482761367512\n",
       "   24.24855048583754\n",
       "    0.9428736320347939\n",
       "    0.22430254585104126"
      ]
     },
     "execution_count": 6,
     "metadata": {},
     "output_type": "execute_result"
    }
   ],
   "source": [
    "result.minimizer"
   ]
  },
  {
   "cell_type": "code",
   "execution_count": 7,
   "metadata": {},
   "outputs": [
    {
     "data": {
      "text/html": [
       "<table class=\"data-frame\"><thead><tr><th></th><th>Parameter</th><th>Mean</th><th>St. Dev.</th></tr><tr><th></th><th>Any</th><th>Any</th><th>Any</th></tr></thead><tbody><p>3 rows × 3 columns</p><tr><th>1</th><td>σᵢₛₒ</td><td>727.832</td><td>0.0</td></tr><tr><th>2</th><td>Δσ</td><td>-254.865</td><td>24.2486</td></tr><tr><th>3</th><td>ησ</td><td>0.942874</td><td>0.224303</td></tr></tbody></table>"
      ],
      "text/latex": [
       "\\begin{tabular}{r|ccc}\n",
       "\t& Parameter & Mean & St. Dev.\\\\\n",
       "\t\\hline\n",
       "\t& Any & Any & Any\\\\\n",
       "\t\\hline\n",
       "\t1 & σᵢₛₒ & 727.832 & 0.0 \\\\\n",
       "\t2 & Δσ & -254.865 & 24.2486 \\\\\n",
       "\t3 & ησ & 0.942874 & 0.224303 \\\\\n",
       "\\end{tabular}\n"
      ],
      "text/plain": [
       "3×3 DataFrame\n",
       "│ Row │ Parameter │ Mean     │ St. Dev. │\n",
       "│     │ \u001b[90mAny\u001b[39m       │ \u001b[90mAny\u001b[39m      │ \u001b[90mAny\u001b[39m      │\n",
       "├─────┼───────────┼──────────┼──────────┤\n",
       "│ 1   │ σᵢₛₒ      │ 727.832  │ 0.0      │\n",
       "│ 2   │ Δσ        │ -254.865 │ 24.2486  │\n",
       "│ 3   │ ησ        │ 0.942874 │ 0.224303 │"
      ]
     },
     "execution_count": 7,
     "metadata": {},
     "output_type": "execute_result"
    }
   ],
   "source": [
    "function results_table(minimizer)\n",
    "    df = DataFrame([\"σᵢₛₒ\" minimizer[1] max(minimizer[2], 0)\n",
    "                    \"Δσ\" minimizer[3] max(minimizer[4], 0)\n",
    "                    \"ησ\" clamp(minimizer[5], 0, 1) max(minimizer[6], 0)])\n",
    "    colnames = [\"Parameter\",\"Mean\",\"St. Dev.\"]\n",
    "    rename!(df, Symbol.(colnames))\n",
    "    return df\n",
    "end\n",
    "results_table(result.minimizer)"
   ]
  },
  {
   "cell_type": "code",
   "execution_count": 8,
   "metadata": {},
   "outputs": [],
   "source": [
    "SpectraFit.plot_experimental(experimental, unit = \"ppm\")"
   ]
  },
  {
   "cell_type": "code",
   "execution_count": 9,
   "metadata": {},
   "outputs": [],
   "source": [
    "SpectraFit.plot_theoretical(experimental, SpectraFit.chemical_shift_params(result.minimizer), unit = \"ppm\")"
   ]
  }
 ],
 "metadata": {
  "@webio": {
   "lastCommId": null,
   "lastKernelId": null
  },
  "kernelspec": {
   "display_name": "Julia 1.4.0",
   "language": "julia",
   "name": "julia-1.4"
  },
  "language_info": {
   "file_extension": ".jl",
   "mimetype": "application/julia",
   "name": "julia",
   "version": "1.4.0"
  }
 },
 "nbformat": 4,
 "nbformat_minor": 2
}
