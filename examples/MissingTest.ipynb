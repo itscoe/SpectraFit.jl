{
 "cells": [
  {
   "cell_type": "code",
   "execution_count": 15,
   "metadata": {},
   "outputs": [],
   "source": [
    "using BenchmarkTools"
   ]
  },
  {
   "cell_type": "code",
   "execution_count": 1,
   "metadata": {},
   "outputs": [
    {
     "data": {
      "text/plain": [
       "test_func (generic function with 1 method)"
      ]
     },
     "execution_count": 1,
     "metadata": {},
     "output_type": "execute_result"
    }
   ],
   "source": [
    "function test_func()\n",
    "    arr = rand(1:1_000_000, 1_000_000)\n",
    "    if arr[1347] > 500_000\n",
    "        return 0\n",
    "    else\n",
    "        return arr[1347]\n",
    "    end\n",
    "end"
   ]
  },
  {
   "cell_type": "code",
   "execution_count": 16,
   "metadata": {},
   "outputs": [
    {
     "data": {
      "text/plain": [
       "test_func2 (generic function with 1 method)"
      ]
     },
     "execution_count": 16,
     "metadata": {},
     "output_type": "execute_result"
    }
   ],
   "source": [
    "function test_func2()\n",
    "    arr = rand(1:1_000_000, 1_000_000)\n",
    "    if arr[1347] > 500_000\n",
    "        return missing\n",
    "    else\n",
    "        return arr[1347]\n",
    "    end\n",
    "end"
   ]
  },
  {
   "cell_type": "code",
   "execution_count": 22,
   "metadata": {},
   "outputs": [
    {
     "name": "stdout",
     "output_type": "stream",
     "text": [
      "Variables\n",
      "  #self#\u001b[36m::Core.Compiler.Const(test_func, false)\u001b[39m\n",
      "  arr\u001b[36m::Array{Int64,1}\u001b[39m\n",
      "\n",
      "Body\u001b[36m::Int64\u001b[39m\n",
      "\u001b[90m1 ─\u001b[39m %1 = (1:1000000)\u001b[36m::Core.Compiler.Const(1:1000000, false)\u001b[39m\n",
      "\u001b[90m│  \u001b[39m      (arr = Main.rand(%1, 1000000))\n",
      "\u001b[90m│  \u001b[39m %3 = Base.getindex(arr, 1347)\u001b[36m::Int64\u001b[39m\n",
      "\u001b[90m│  \u001b[39m %4 = (%3 > 500000)\u001b[36m::Bool\u001b[39m\n",
      "\u001b[90m└──\u001b[39m      goto #3 if not %4\n",
      "\u001b[90m2 ─\u001b[39m      return 0\n",
      "\u001b[90m3 ─\u001b[39m %7 = Base.getindex(arr, 1347)\u001b[36m::Int64\u001b[39m\n",
      "\u001b[90m└──\u001b[39m      return %7\n"
     ]
    }
   ],
   "source": [
    "@code_warntype test_func()"
   ]
  },
  {
   "cell_type": "code",
   "execution_count": 21,
   "metadata": {},
   "outputs": [
    {
     "name": "stdout",
     "output_type": "stream",
     "text": [
      "Variables\n",
      "  #self#\u001b[36m::Core.Compiler.Const(test_func2, false)\u001b[39m\n",
      "  arr\u001b[36m::Array{Int64,1}\u001b[39m\n",
      "\n",
      "Body\u001b[33m\u001b[1m::Union{Missing, Int64}\u001b[22m\u001b[39m\n",
      "\u001b[90m1 ─\u001b[39m %1 = (1:1000000)\u001b[36m::Core.Compiler.Const(1:1000000, false)\u001b[39m\n",
      "\u001b[90m│  \u001b[39m      (arr = Main.rand(%1, 1000000))\n",
      "\u001b[90m│  \u001b[39m %3 = Base.getindex(arr, 1347)\u001b[36m::Int64\u001b[39m\n",
      "\u001b[90m│  \u001b[39m %4 = (%3 > 500000)\u001b[36m::Bool\u001b[39m\n",
      "\u001b[90m└──\u001b[39m      goto #3 if not %4\n",
      "\u001b[90m2 ─\u001b[39m      return Main.missing\n",
      "\u001b[90m3 ─\u001b[39m %7 = Base.getindex(arr, 1347)\u001b[36m::Int64\u001b[39m\n",
      "\u001b[90m└──\u001b[39m      return %7\n"
     ]
    }
   ],
   "source": [
    "@code_warntype test_func2()"
   ]
  },
  {
   "cell_type": "code",
   "execution_count": 23,
   "metadata": {},
   "outputs": [
    {
     "data": {
      "text/plain": [
       "BenchmarkTools.Trial: \n",
       "  memory estimate:  7.63 MiB\n",
       "  allocs estimate:  2\n",
       "  --------------\n",
       "  minimum time:     6.783 ms (0.00% GC)\n",
       "  median time:      6.869 ms (0.00% GC)\n",
       "  mean time:        7.169 ms (1.63% GC)\n",
       "  maximum time:     8.980 ms (6.76% GC)\n",
       "  --------------\n",
       "  samples:          697\n",
       "  evals/sample:     1"
      ]
     },
     "execution_count": 23,
     "metadata": {},
     "output_type": "execute_result"
    }
   ],
   "source": [
    "@benchmark test_func()"
   ]
  },
  {
   "cell_type": "code",
   "execution_count": 24,
   "metadata": {},
   "outputs": [
    {
     "data": {
      "text/plain": [
       "BenchmarkTools.Trial: \n",
       "  memory estimate:  7.63 MiB\n",
       "  allocs estimate:  2\n",
       "  --------------\n",
       "  minimum time:     4.881 ms (0.00% GC)\n",
       "  median time:      5.007 ms (0.00% GC)\n",
       "  mean time:        5.324 ms (2.25% GC)\n",
       "  maximum time:     9.347 ms (0.00% GC)\n",
       "  --------------\n",
       "  samples:          938\n",
       "  evals/sample:     1"
      ]
     },
     "execution_count": 24,
     "metadata": {},
     "output_type": "execute_result"
    }
   ],
   "source": [
    "@benchmark test_func2()"
   ]
  }
 ],
 "metadata": {
  "kernelspec": {
   "display_name": "Julia 1.4.0",
   "language": "julia",
   "name": "julia-1.4"
  },
  "language_info": {
   "file_extension": ".jl",
   "mimetype": "application/julia",
   "name": "julia",
   "version": "1.4.0"
  }
 },
 "nbformat": 4,
 "nbformat_minor": 2
}
