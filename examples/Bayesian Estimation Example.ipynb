{
 "cells": [
  {
   "cell_type": "code",
   "execution_count": 1,
   "metadata": {},
   "outputs": [],
   "source": [
    "#using Pkg; Pkg.add(PackageSpec(url=\"https://github.com/itscoe/SpectraFit.jl\", rev=\"master\"))"
   ]
  },
  {
   "cell_type": "code",
   "execution_count": 2,
   "metadata": {},
   "outputs": [],
   "source": [
    "using SpectraFit, Plots"
   ]
  },
  {
   "cell_type": "code",
   "execution_count": 3,
   "metadata": {},
   "outputs": [],
   "source": [
    "experimental = get_experimental(\"B2O3FastCool.txt\", 32.239);"
   ]
  },
  {
   "cell_type": "code",
   "execution_count": null,
   "metadata": {},
   "outputs": [
    {
     "name": "stderr",
     "output_type": "stream",
     "text": [
      "\u001b[32mProgress:   0%|                                         |  ETA: 13:02:02\u001b[39m25\u001b[39mm"
     ]
    }
   ],
   "source": [
    "samp = metropolis_hastings(experimental);"
   ]
  },
  {
   "cell_type": "code",
   "execution_count": null,
   "metadata": {},
   "outputs": [],
   "source": [
    "plot(samp[1:end,1],label=\"qcc\")\n",
    "plot!(samp[1:end,2],label=\"eta\")\n",
    "plot!(samp[1:end,3],label=\"sigma\")"
   ]
  },
  {
   "cell_type": "code",
   "execution_count": null,
   "metadata": {},
   "outputs": [],
   "source": [
    "histogram2d(samp[1000:end,1],samp[1000:end,2],normed=true,xlabel=\"qcc\",ylabel=\"eta\")"
   ]
  },
  {
   "cell_type": "code",
   "execution_count": null,
   "metadata": {},
   "outputs": [],
   "source": [
    "histogram(samp[1000:end,1], bins = 100, alpha = 0.5, label = \"Qcc\")"
   ]
  },
  {
   "cell_type": "code",
   "execution_count": null,
   "metadata": {},
   "outputs": [],
   "source": [
    "histogram(samp[1000:end,2], bins = 100, alpha = 0.5, label = \"Eta\")"
   ]
  },
  {
   "cell_type": "code",
   "execution_count": null,
   "metadata": {},
   "outputs": [],
   "source": [
    "histogram(samp[1000:end,3], bins = 100, alpha = 0.5, label = \"Bayesian\")"
   ]
  },
  {
   "cell_type": "code",
   "execution_count": null,
   "metadata": {},
   "outputs": [],
   "source": [
    "N = 999_001\n",
    "m = rand(Categorical([3/28, 5/28, 6/28, 6/28, 5/28, 3/28]), N) .- 3\n",
    "μ = rand(Uniform(0, 1), N)\n",
    "λ = rand(Uniform(-1, 1), N)\n",
    "powder_pattern = get_ν.(samp[1000:end,1], samp[1000:end,2], μ, λ, m, 3, ν0)\n",
    "x = experimental[:, 1]\n",
    "k = kde(powder_pattern)\n",
    "ik = InterpKDE(k)\n",
    "theoretical = pdf(ik, x);\n",
    "plot(experimental[:, 1], experimental[:, 2], label = \"experimental\")\n",
    "theoretical_old = generate_theoretical_spectrum(experimental, nmr_params([5.4, 0.25, 0.12, 0.06, 1.0]))\n",
    "plot!(experimental[:, 1], theoretical_old, width = 2, label = \"old theoretical\")\n",
    "plot!(experimental[:, 1], theoretical .* (mean(experimental[:, 2]) / mean(theoretical)), width = 2, label = \"theoretical\")"
   ]
  }
 ],
 "metadata": {
  "@webio": {
   "lastCommId": null,
   "lastKernelId": null
  },
  "kernelspec": {
   "display_name": "Julia 1.4.0",
   "language": "julia",
   "name": "julia-1.4"
  },
  "language_info": {
   "file_extension": ".jl",
   "mimetype": "application/julia",
   "name": "julia",
   "version": "1.4.0"
  }
 },
 "nbformat": 4,
 "nbformat_minor": 2
}
